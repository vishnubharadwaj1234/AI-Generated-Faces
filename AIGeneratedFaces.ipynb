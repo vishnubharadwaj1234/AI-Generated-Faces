{
  "cells": [
    {
      "cell_type": "markdown",
      "metadata": {
        "id": "view-in-github",
        "colab_type": "text"
      },
      "source": [
        "<a href=\"https://colab.research.google.com/github/vishnubharadwaj1234/AI-Generated-Faces/blob/main/AIGeneratedFaces.ipynb\" target=\"_parent\"><img src=\"https://colab.research.google.com/assets/colab-badge.svg\" alt=\"Open In Colab\"/></a>"
      ]
    },
    {
      "cell_type": "markdown",
      "source": [
        "# Imports + Mounting Google Drive"
      ],
      "metadata": {
        "id": "k8t_LCO1MWxY"
      }
    },
    {
      "cell_type": "code",
      "execution_count": null,
      "metadata": {
        "id": "GT4MfiqlDVYy"
      },
      "outputs": [],
      "source": [
        "import pandas as pd\n",
        "import numpy as np\n",
        "import os, random, cv2\n",
        "import tensorflow as tf\n",
        "import keras\n",
        "from sklearn.model_selection import train_test_split\n",
        "from keras.models import Sequential\n",
        "from keras.layers import Conv2D, Dense, Flatten, Dropout, Activation, MaxPool2D\n",
        "from keras.optimizers import Adam, RMSprop\n",
        "from keras.losses import binary_crossentropy\n",
        "from keras.preprocessing.image import ImageDataGenerator\n",
        "from sklearn.linear_model import LogisticRegression\n",
        "from sklearn.metrics import accuracy_score\n",
        "from sklearn.metrics import precision_score\n",
        "from sklearn.metrics import recall_score\n",
        "from sklearn.metrics import f1_score\n",
        "from sklearn.neural_network import MLPClassifier\n",
        "from keras.applications import VGG19\n",
        "from sklearn.metrics import classification_report\n",
        "from google.colab import drive\n",
        "drive.mount('/content/drive')\n",
        "DATA_PATH = '/content/drive/MyDrive/AIGeneratedFacesProject/FacesData/'"
      ]
    },
    {
      "cell_type": "markdown",
      "metadata": {
        "id": "zOJASmGv-QJO"
      },
      "source": [
        "# Getting the Data + Data Preprocessing"
      ]
    },
    {
      "cell_type": "code",
      "execution_count": null,
      "metadata": {
        "id": "e1w_zJGxQi77"
      },
      "outputs": [],
      "source": [
        "!cp /content/drive/MyDrive/AIGeneratedFacesProject/FacesData/RealFaces.zip /content/"
      ]
    },
    {
      "cell_type": "code",
      "execution_count": null,
      "metadata": {
        "id": "04xogDlGOuN6"
      },
      "outputs": [],
      "source": [
        "!unzip /content/RealFaces.zip"
      ]
    },
    {
      "cell_type": "code",
      "execution_count": null,
      "metadata": {
        "id": "dXhhhBcGDSAp"
      },
      "outputs": [],
      "source": [
        "imageArrays = []\n",
        "i = 0\n",
        "for dirname, _, filenames in os.walk('/content/real_faces_128'):\n",
        "    for filename in filenames:\n",
        "        filePath = os.path.join(dirname, filename)\n",
        "        imageArrays.append(cv2.imread(filePath))\n",
        "        i += 1\n",
        "        if i == 2000:\n",
        "            break"
      ]
    },
    {
      "cell_type": "code",
      "execution_count": null,
      "metadata": {
        "id": "Xth36YjDDSAr"
      },
      "outputs": [],
      "source": [
        "imageBatch = np.array(imageArrays)\n",
        "print(imageBatch.shape)"
      ]
    },
    {
      "cell_type": "code",
      "execution_count": null,
      "metadata": {
        "id": "inbEyqZpvIhk"
      },
      "outputs": [],
      "source": [
        "!cp /content/drive/MyDrive/AIGeneratedFacesProject/FacesData/FakeFaces.zip /content/"
      ]
    },
    {
      "cell_type": "code",
      "execution_count": null,
      "metadata": {
        "id": "IUpDC2PCvg6S"
      },
      "outputs": [],
      "source": [
        "!unzip /content/FakeFaces.zip"
      ]
    },
    {
      "cell_type": "code",
      "execution_count": null,
      "metadata": {
        "id": "QNsrxqIqqoYd"
      },
      "outputs": [],
      "source": [
        "fakeImageArrays = []\n",
        "i = 0\n",
        "for dirname, _, filenames in os.walk('/content/fake_faces_70k'):\n",
        "    for filename in filenames:\n",
        "        filePath = os.path.join(dirname, filename)\n",
        "        fakeImageArrays.append(cv2.imread(filePath))\n",
        "        i += 1\n",
        "        if i == 2000:\n",
        "            break"
      ]
    },
    {
      "cell_type": "code",
      "execution_count": null,
      "metadata": {
        "id": "RfsPWUjAqyyo"
      },
      "outputs": [],
      "source": [
        "fakeImageBatch = np.array(fakeImageArrays)\n",
        "print(fakeImageBatch.shape)"
      ]
    },
    {
      "cell_type": "code",
      "execution_count": null,
      "metadata": {
        "id": "C9I4oYhujtIR"
      },
      "outputs": [],
      "source": [
        "yRealImages = np.ones((imageBatch.shape[0]))\n",
        "yFakeImages = np.zeros((fakeImageBatch.shape[0]))\n",
        "y = np.concatenate((yRealImages, yFakeImages), axis=0)\n",
        "print(y.shape)"
      ]
    },
    {
      "cell_type": "code",
      "execution_count": null,
      "metadata": {
        "id": "-8OalMxpZI2j"
      },
      "outputs": [],
      "source": [
        "X = np.concatenate((imageBatch, fakeImageBatch), axis=0)\n",
        "print(X.shape)"
      ]
    },
    {
      "cell_type": "code",
      "execution_count": null,
      "metadata": {
        "id": "_p5MX1S2sb0y"
      },
      "outputs": [],
      "source": [
        "X_norm_imgs = []\n",
        "def normalize_one_image(image):\n",
        "  return (image - np.min(image)) / (np.max(image) - np.min(image))\n",
        "for idx in range(X.shape[0]):\n",
        "  X_norm_imgs.append(normalize_one_image(X[idx]))\n",
        "X_norm_imgs = np.array(X_norm_imgs)"
      ]
    },
    {
      "cell_type": "code",
      "execution_count": null,
      "metadata": {
        "id": "OD7vvz8rgtOi"
      },
      "outputs": [],
      "source": [
        "X_norm_imgs.shape"
      ]
    },
    {
      "cell_type": "code",
      "execution_count": null,
      "metadata": {
        "id": "1IO6NgIlc8ex"
      },
      "outputs": [],
      "source": [
        "X_norm_images_flat = np.reshape(X_norm_imgs, (X_norm_imgs.shape[0], -1))"
      ]
    },
    {
      "cell_type": "code",
      "execution_count": null,
      "metadata": {
        "id": "tvnRD7_0h6O4"
      },
      "outputs": [],
      "source": [
        "X_norm_images_flat.shape"
      ]
    },
    {
      "cell_type": "code",
      "execution_count": null,
      "metadata": {
        "id": "jc02-zcEZvnz"
      },
      "outputs": [],
      "source": [
        "X_train, X_test, y_train, y_test = train_test_split(X_norm_images_flat, y, test_size=0.2, random_state=0, shuffle=True)"
      ]
    },
    {
      "cell_type": "markdown",
      "metadata": {
        "id": "m1XidK6b-ZjN"
      },
      "source": [
        "# Logistic Regression"
      ]
    },
    {
      "cell_type": "code",
      "execution_count": null,
      "metadata": {
        "id": "59pflgaccc73"
      },
      "outputs": [],
      "source": [
        "lr = LogisticRegression()\n",
        "lr.fit(X_train, y_train)\n",
        "predictions = lr.predict(X_test)"
      ]
    },
    {
      "cell_type": "code",
      "execution_count": null,
      "metadata": {
        "id": "M4_msRaCeOxH"
      },
      "outputs": [],
      "source": [
        "print(\"Accuracy: \" + str(accuracy_score(y_test, predictions)))\n",
        "print(\"Precision: \" + str(precision_score(y_test, predictions)))\n",
        "print(\"Recall: \" + str(recall_score(y_test, predictions)))\n",
        "print(\"F1 Score: \" + str(f1_score(y_test, predictions)))"
      ]
    },
    {
      "cell_type": "markdown",
      "metadata": {
        "id": "FdSTs101-g_j"
      },
      "source": [
        "# MLP Classifier"
      ]
    },
    {
      "cell_type": "code",
      "execution_count": null,
      "metadata": {
        "id": "N6_A-F6peXD2"
      },
      "outputs": [],
      "source": [
        "mlp = MLPClassifier(hidden_layer_sizes=(100, 100, 100), random_state=1, max_iter=100)\n",
        "mlp.fit(X_train, y_train)\n",
        "predictions = mlp.predict(X_test)"
      ]
    },
    {
      "cell_type": "code",
      "execution_count": null,
      "metadata": {
        "id": "Bcj04ObukhBz"
      },
      "outputs": [],
      "source": [
        "print(\"Accuracy: \" + str(accuracy_score(y_test, predictions)))\n",
        "print(\"Precision: \" + str(precision_score(y_test, predictions)))\n",
        "print(\"Recall: \" + str(recall_score(y_test, predictions)))\n",
        "print(\"F1 Score: \" + str(f1_score(y_test, predictions)))"
      ]
    },
    {
      "cell_type": "markdown",
      "metadata": {
        "id": "CXMpK611-maP"
      },
      "source": [
        "# VGG19"
      ]
    },
    {
      "cell_type": "code",
      "execution_count": null,
      "metadata": {
        "id": "BXl1JbxMOnYK"
      },
      "outputs": [],
      "source": [
        "model_vgg19 = VGG19 (\n",
        "    include_top=False,\n",
        "    weights=None,\n",
        "    input_tensor=None,\n",
        "    input_shape=(128, 128, 3),\n",
        "    pooling=None,\n",
        "    classes=1000,\n",
        "    classifier_activation=\"softmax\",\n",
        ")\n",
        "\n",
        "model = Sequential();\n",
        "for layer in model_vgg19.layers:\n",
        "  model.add(layer)\n",
        "\n",
        "model.add(Flatten())\n",
        "model.add(Dense(10))\n",
        "model.add(Activation('relu'))\n",
        "model.add(Dense(1, activation='sigmoid'))\n",
        "\n",
        "num_layers = len(model.layers)\n",
        "for x in range(0,num_layers):\n",
        "    print(model.layers[x])\n",
        "    print(model.layers[x].trainable)"
      ]
    },
    {
      "cell_type": "code",
      "execution_count": null,
      "metadata": {
        "id": "XGQCMNE8Dk-e"
      },
      "outputs": [],
      "source": [
        "opt = tf.keras.optimizers.Adam(learning_rate=0.001)\n",
        "model.compile(optimizer=opt, metrics=['accuracy'], loss='binary_crossentropy')"
      ]
    },
    {
      "cell_type": "code",
      "execution_count": null,
      "metadata": {
        "id": "MdquAm8ab3c0"
      },
      "outputs": [],
      "source": [
        "checkpoint_path = \"/content/drive/MyDrive/AIGeneratedFacesProject/FacesSavedCheckpoints/cp.ckpt\"\n",
        "checkpoint_dir = os.path.dirname(checkpoint_path)\n",
        "cp_callback = tf.keras.callbacks.ModelCheckpoint(filepath=checkpoint_path,\n",
        "                                                save_weights_only=True,\n",
        "                                                 verbose=1)"
      ]
    },
    {
      "cell_type": "code",
      "execution_count": null,
      "metadata": {
        "id": "VpHKhQNTDmfn"
      },
      "outputs": [],
      "source": [
        "X_train_VGG, X_test_VGG, y_train_VGG, y_test_VGG = train_test_split(X_norm_imgs, y, test_size=0.9, random_state=0, shuffle=True)"
      ]
    },
    {
      "cell_type": "code",
      "source": [
        "# run this if you want to train the model yourself\n",
        "model.fit(X_train_VGG, y_train_VGG, epochs = 50000, callbacks=[cp_callback], )"
      ],
      "metadata": {
        "id": "y1b8QCpR0rbs"
      },
      "execution_count": null,
      "outputs": []
    },
    {
      "cell_type": "code",
      "source": [
        "# run this to load the pretrained model\n",
        "model.load_weights(checkpoint_path)"
      ],
      "metadata": {
        "id": "W4YlFTbT0r6C"
      },
      "execution_count": null,
      "outputs": []
    },
    {
      "cell_type": "code",
      "source": [
        "predictions = model.predict(X_test_VGG)\n",
        "predictions[predictions >= 0.5] = 1\n",
        "predictions[predictions < 0.5] = 0\n",
        "predictions = np.squeeze(predictions)"
      ],
      "metadata": {
        "id": "OJhE12xr01p5"
      },
      "execution_count": null,
      "outputs": []
    },
    {
      "cell_type": "code",
      "source": [
        "y_test_VGG_int = y_test_VGG.astype(int)\n",
        "classification_report(y_test_VGG_int, predictions)"
      ],
      "metadata": {
        "id": "46qSTLb_2Qah"
      },
      "execution_count": null,
      "outputs": []
    },
    {
      "cell_type": "markdown",
      "metadata": {
        "id": "DJfgPrSWM90H"
      },
      "source": [
        "# Vision Transformer"
      ]
    },
    {
      "cell_type": "code",
      "execution_count": null,
      "metadata": {
        "id": "lqg-lFIIM0xb"
      },
      "outputs": [],
      "source": []
    }
  ],
  "metadata": {
    "colab": {
      "provenance": [],
      "machine_shape": "hm",
      "gpuType": "T4",
      "include_colab_link": true
    },
    "kernelspec": {
      "display_name": "Python 3",
      "name": "python3"
    },
    "language_info": {
      "codemirror_mode": {
        "name": "ipython",
        "version": 3
      },
      "file_extension": ".py",
      "mimetype": "text/x-python",
      "name": "python",
      "nbconvert_exporter": "python",
      "pygments_lexer": "ipython3",
      "version": "3.10.12"
    },
    "accelerator": "GPU"
  },
  "nbformat": 4,
  "nbformat_minor": 0
}